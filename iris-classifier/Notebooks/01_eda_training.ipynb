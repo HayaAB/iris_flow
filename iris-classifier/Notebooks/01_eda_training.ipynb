{
 "cells": [
  {
   "cell_type": "code",
   "execution_count": 4,
   "id": "c193a8cd-3cdf-4328-a3a5-00ee1d3d1ee6",
   "metadata": {},
   "outputs": [],
   "source": [
    "import pandas as pd\n",
    "from sklearn.datasets import load_iris"
   ]
  },
  {
   "cell_type": "markdown",
   "id": "5a15baa4-4009-4039-8493-9ac1afd6ea7d",
   "metadata": {},
   "source": [
    "خلية: التحميل والـEDA المختصر"
   ]
  },
  {
   "cell_type": "code",
   "execution_count": 6,
   "id": "1507a900-dd90-4b43-a129-b9c370f30b65",
   "metadata": {},
   "outputs": [
    {
     "data": {
      "text/plain": [
       "(   sepal length (cm)  sepal width (cm)  petal length (cm)  petal width (cm)  \\\n",
       " 0                5.1               3.5                1.4               0.2   \n",
       " 1                4.9               3.0                1.4               0.2   \n",
       " 2                4.7               3.2                1.3               0.2   \n",
       " 3                4.6               3.1                1.5               0.2   \n",
       " 4                5.0               3.6                1.4               0.2   \n",
       " \n",
       "    target  \n",
       " 0       0  \n",
       " 1       0  \n",
       " 2       0  \n",
       " 3       0  \n",
       " 4       0  ,\n",
       "        sepal length (cm)  sepal width (cm)  petal length (cm)  \\\n",
       " count         150.000000        150.000000         150.000000   \n",
       " mean            5.843333          3.057333           3.758000   \n",
       " std             0.828066          0.435866           1.765298   \n",
       " min             4.300000          2.000000           1.000000   \n",
       " 25%             5.100000          2.800000           1.600000   \n",
       " 50%             5.800000          3.000000           4.350000   \n",
       " 75%             6.400000          3.300000           5.100000   \n",
       " max             7.900000          4.400000           6.900000   \n",
       " \n",
       "        petal width (cm)      target  \n",
       " count        150.000000  150.000000  \n",
       " mean           1.199333    1.000000  \n",
       " std            0.762238    0.819232  \n",
       " min            0.100000    0.000000  \n",
       " 25%            0.300000    0.000000  \n",
       " 50%            1.300000    1.000000  \n",
       " 75%            1.800000    2.000000  \n",
       " max            2.500000    2.000000  )"
      ]
     },
     "execution_count": 6,
     "metadata": {},
     "output_type": "execute_result"
    }
   ],
   "source": [
    "iris = load_iris(as_frame=True)\n",
    "ir= iris.frame\n",
    "ir.head(),ir.describe(include='all')"
   ]
  },
  {
   "cell_type": "markdown",
   "id": "8b4c9e00-d3c6-47f5-a2c8-ce1da5712170",
   "metadata": {},
   "source": [
    "خلية: فصل الميزات والهدف + تقسيم البيانات"
   ]
  },
  {
   "cell_type": "code",
   "execution_count": 10,
   "id": "a1ed629b-af2b-4fa1-a3ea-1e83b6d2fc24",
   "metadata": {},
   "outputs": [],
   "source": [
    "from sklearn.model_selection import train_test_split\n",
    "X = ir[iris.feature_names]\n",
    "y = iris.target\n",
    "X_train,X_test,y_train,y_test = train_test_split(\n",
    "    X,y,test_size=0.2 , random_state=42, stratify=y)"
   ]
  },
  {
   "cell_type": "markdown",
   "id": "b4f333b9-9dfc-44f6-8a6a-1f440eb4a4df",
   "metadata": {},
   "source": [
    "خلية: بناء الـPipeline وتدريبه وتقييمه"
   ]
  },
  {
   "cell_type": "code",
   "execution_count": 13,
   "id": "746bc1a8-b566-42fe-b04e-644167dae4cd",
   "metadata": {},
   "outputs": [
    {
     "name": "stdout",
     "output_type": "stream",
     "text": [
      "Accuracy: 0.9\n",
      "              precision    recall  f1-score   support\n",
      "\n",
      "      setosa       1.00      1.00      1.00        10\n",
      "  versicolor       0.82      0.90      0.86        10\n",
      "   virginica       0.89      0.80      0.84        10\n",
      "\n",
      "    accuracy                           0.90        30\n",
      "   macro avg       0.90      0.90      0.90        30\n",
      "weighted avg       0.90      0.90      0.90        30\n",
      "\n"
     ]
    }
   ],
   "source": [
    "from sklearn.pipeline import Pipeline\n",
    "from sklearn.preprocessing import StandardScaler\n",
    "from sklearn.ensemble import RandomForestClassifier\n",
    "from sklearn.metrics import accuracy_score, classification_report\n",
    "\n",
    "pipe = Pipeline([\n",
    "    (\"scaler\",StandardScaler()),\n",
    "    (\"clf\",RandomForestClassifier(random_state=42))\n",
    "])\n",
    "pipe.fit(X_train,y_train)\n",
    "pred=pipe.predict(X_test)\n",
    "acc = accuracy_score(y_test, pred)\n",
    "print(\"Accuracy:\", acc)\n",
    "print(classification_report(y_test, pred, target_names=iris.target_names))"
   ]
  },
  {
   "cell_type": "markdown",
   "id": "9d065b93-d2a0-4c1e-b612-96765e18b122",
   "metadata": {},
   "source": [
    "خلية: حفظ الـPipeline (للاستخدام في الواجهة)"
   ]
  },
  {
   "cell_type": "code",
   "execution_count": 16,
   "id": "9eefc2bb-b087-4280-b28c-d0d27c7eabac",
   "metadata": {},
   "outputs": [
    {
     "data": {
      "text/plain": [
       "['../models/iris_pipeline.joblib']"
      ]
     },
     "execution_count": 16,
     "metadata": {},
     "output_type": "execute_result"
    }
   ],
   "source": [
    "import joblib\n",
    "joblib.dump(pipe, \"../models/iris_pipeline.joblib\")"
   ]
  },
  {
   "cell_type": "code",
   "execution_count": null,
   "id": "17a6f4f9-344a-4b12-87e7-40f43a4893f5",
   "metadata": {},
   "outputs": [],
   "source": []
  }
 ],
 "metadata": {
  "kernelspec": {
   "display_name": "Python [conda env:base] *",
   "language": "python",
   "name": "conda-base-py"
  },
  "language_info": {
   "codemirror_mode": {
    "name": "ipython",
    "version": 3
   },
   "file_extension": ".py",
   "mimetype": "text/x-python",
   "name": "python",
   "nbconvert_exporter": "python",
   "pygments_lexer": "ipython3",
   "version": "3.12.7"
  }
 },
 "nbformat": 4,
 "nbformat_minor": 5
}
